{
 "cells": [
  {
   "cell_type": "code",
   "execution_count": 3,
   "metadata": {},
   "outputs": [
    {
     "name": "stdout",
     "output_type": "stream",
     "text": [
      "start...\n",
      "-1\n"
     ]
    }
   ],
   "source": [
    "import cv2\n",
    "import numpy as np\n",
    "\n",
    "# Load face cascade file\n",
    "frontalface_cascade= cv2.CascadeClassifier('haarcascade_frontalface_alt.xml')\n",
    "\n",
    "# Check if face cascade file has been loaded\n",
    "if frontalface_cascade.empty():\n",
    "\traise IOError('Unable to load the face cascade classifier xml file')\n",
    "\n",
    "# Initialize video capture object\n",
    "capture = cv2.VideoCapture(0)\n",
    "\n",
    "# Define the scaling factor\n",
    "scale_factor = 0.5\n",
    "print('start...')\n",
    "# Loop until you hit the Esc key\n",
    "while True:\n",
    "    # Capture current frame  and resize it\n",
    "    ret, frame = capture.read()\n",
    "    frame = cv2.resize(frame, None, fx=scale_factor, fy=scale_factor, \n",
    "            interpolation=cv2.INTER_AREA)\n",
    "\n",
    "    # Convert to grayscale\n",
    "    gray_image = cv2.cvtColor(frame, cv2.COLOR_BGR2GRAY)\n",
    "\n",
    "    # Run the face detector on the grayscale image\n",
    "    face_rectangle = frontalface_cascade.detectMultiScale(gray_image, 1.3, 5)\n",
    "\n",
    "    # Draw rectangles on the image\n",
    "    for (x,y,w,h) in face_rectangle:\n",
    "        cv2.rectangle(frame, (x,y), (x+w,y+h), (0,255,0), 3)\n",
    "\n",
    "    # Display the image\n",
    "        cv2.imshow('Face Detector', frame)\n",
    "\n",
    "    # Check if Esc key has been pressed\n",
    "    \n",
    "    if (cv2.waitKey(1) & 0xFF == ord('q')):\n",
    "        print(cv2.waitKey(1))\n",
    "        capture.release()\n",
    "        cv2.destroyAllWindows()\n",
    "        break\n",
    "\n",
    "# Release the video capture object and close all windows\n",
    "capture.release()\n",
    "cv2.destroyAllWindows()"
   ]
  },
  {
   "cell_type": "code",
   "execution_count": 12,
   "metadata": {},
   "outputs": [
    {
     "name": "stdout",
     "output_type": "stream",
     "text": [
      "113\n",
      "False\n"
     ]
    }
   ],
   "source": [
    "print(ord('q'))\n",
    "print((-1 & 0xFF)== ord('q'))"
   ]
  },
  {
   "cell_type": "code",
   "execution_count": 17,
   "metadata": {},
   "outputs": [
    {
     "data": {
      "text/plain": [
       "True"
      ]
     },
     "execution_count": 17,
     "metadata": {},
     "output_type": "execute_result"
    }
   ],
   "source": [
    "cap = cv2.VideoCapture(0)\n",
    "cap.open(0)"
   ]
  },
  {
   "cell_type": "code",
   "execution_count": null,
   "metadata": {},
   "outputs": [],
   "source": []
  }
 ],
 "metadata": {
  "kernelspec": {
   "display_name": "Python 3",
   "language": "python",
   "name": "python3"
  },
  "language_info": {
   "codemirror_mode": {
    "name": "ipython",
    "version": 3
   },
   "file_extension": ".py",
   "mimetype": "text/x-python",
   "name": "python",
   "nbconvert_exporter": "python",
   "pygments_lexer": "ipython3",
   "version": "3.6.5"
  }
 },
 "nbformat": 4,
 "nbformat_minor": 2
}
