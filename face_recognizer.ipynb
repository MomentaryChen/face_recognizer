{
 "cells": [
  {
   "cell_type": "code",
   "execution_count": 2,
   "metadata": {},
   "outputs": [],
   "source": [
    "import os\n",
    "import cv2\n",
    "import numpy as np\n",
    "from sklearn import preprocessing"
   ]
  },
  {
   "cell_type": "code",
   "execution_count": 3,
   "metadata": {},
   "outputs": [],
   "source": [
    "# Class to handle tasks related to label encoding\n",
    "class LabelEncoding(object):\n",
    "    # Method to encode labels from words to numbers\n",
    "    def encoding_labels(self, label_wordings):\n",
    "        self.le = preprocessing.LabelEncoder()\n",
    "        self.le.fit(label_wordings)\n",
    "\n",
    "    # Convert input label from word to number\n",
    "    def word_to_number(self, label_wordings):\n",
    "        return int(self.le.transform([label_wordings])[0])\n",
    "\n",
    "    # Convert input label from number to word\n",
    "    def number_to_word(self, label_number):\n",
    "        return self.le.inverse_transform([label_number])[0]\n",
    "\n",
    "# Extract images and labels from input path\n",
    "def getting_images_and_labels(path_input):\n",
    "    label_wordings = []\n",
    "\n",
    "    # Iterate through the input path and append files\n",
    "    for roots, dirs, files in os.walk(path_input):\n",
    "        for fname in (x for x in files if x.endswith('.jpg')):\n",
    "            fpath = os.path.join(roots, fname)\n",
    "            label_wordings.append(fpath.split('\\\\')[-2]) \n",
    "            \n",
    "    # Initialize variables\n",
    "    images = []\n",
    "    le = LabelEncoding()\n",
    "    le.encoding_labels(label_wordings)\n",
    "    labels = []\n",
    "\n",
    "    # Parse the input directory\n",
    "    for roots, dirs, files in os.walk(path_input):\n",
    "        for fname in (x for x in files if x.endswith('.jpg')):\n",
    "            fpath = os.path.join(roots, fname)\n",
    "\n",
    "            # Read the image in grayscale format\n",
    "            img = cv2.imread(fpath, 0) \n",
    "\n",
    "            # Extract the label\n",
    "            names = fpath.split(\"\\\\\")[-2]\n",
    "            # Perform face detection\n",
    "            face = faceCascade.detectMultiScale(img, 1.1, 2, minSize=(100,100))\n",
    "\n",
    "            # Iterate through face rectangles\n",
    "            for (x, y, w, h) in face:\n",
    "                images.append(img[y:y+h, x:x+w])\n",
    "                labels.append(le.word_to_number(names))\n",
    "    print(labels)\n",
    "    return images, labels, le"
   ]
  },
  {
   "cell_type": "code",
   "execution_count": null,
   "metadata": {},
   "outputs": [],
   "source": []
  },
  {
   "cell_type": "code",
   "execution_count": 5,
   "metadata": {},
   "outputs": [
    {
     "name": "stdout",
     "output_type": "stream",
     "text": [
      "[0, 0, 0, 0, 1, 1, 1, 1, 1, 1, 1, 1]\n",
      "\n",
      "Training...\n",
      "\n",
      "Performing prediction on test images...\n",
      "face lenght1\n",
      "0\n",
      "journeyTea\n",
      "341833.jpg\n"
     ]
    },
    {
     "name": "stderr",
     "output_type": "stream",
     "text": [
      "D:\\anoconda\\lib\\site-packages\\sklearn\\preprocessing\\label.py:151: DeprecationWarning: The truth value of an empty array is ambiguous. Returning False, but in future this will result in an error. Use `array.size > 0` to check that an array is not empty.\n",
      "  if diff:\n"
     ]
    },
    {
     "name": "stdout",
     "output_type": "stream",
     "text": [
      "face lenght1\n",
      "0\n",
      "journeyTea\n",
      "341834.jpg\n"
     ]
    },
    {
     "name": "stderr",
     "output_type": "stream",
     "text": [
      "D:\\anoconda\\lib\\site-packages\\sklearn\\preprocessing\\label.py:151: DeprecationWarning: The truth value of an empty array is ambiguous. Returning False, but in future this will result in an error. Use `array.size > 0` to check that an array is not empty.\n",
      "  if diff:\n"
     ]
    },
    {
     "name": "stdout",
     "output_type": "stream",
     "text": [
      "face lenght2\n",
      "0\n",
      "journeyTea\n",
      "1\n",
      "moty\n",
      "341860.jpg\n"
     ]
    },
    {
     "name": "stderr",
     "output_type": "stream",
     "text": [
      "D:\\anoconda\\lib\\site-packages\\sklearn\\preprocessing\\label.py:151: DeprecationWarning: The truth value of an empty array is ambiguous. Returning False, but in future this will result in an error. Use `array.size > 0` to check that an array is not empty.\n",
      "  if diff:\n",
      "D:\\anoconda\\lib\\site-packages\\sklearn\\preprocessing\\label.py:151: DeprecationWarning: The truth value of an empty array is ambiguous. Returning False, but in future this will result in an error. Use `array.size > 0` to check that an array is not empty.\n",
      "  if diff:\n"
     ]
    },
    {
     "name": "stdout",
     "output_type": "stream",
     "text": [
      "face lenght2\n",
      "0\n",
      "journeyTea\n",
      "0\n",
      "journeyTea\n",
      "341865.jpg\n"
     ]
    },
    {
     "name": "stderr",
     "output_type": "stream",
     "text": [
      "D:\\anoconda\\lib\\site-packages\\sklearn\\preprocessing\\label.py:151: DeprecationWarning: The truth value of an empty array is ambiguous. Returning False, but in future this will result in an error. Use `array.size > 0` to check that an array is not empty.\n",
      "  if diff:\n",
      "D:\\anoconda\\lib\\site-packages\\sklearn\\preprocessing\\label.py:151: DeprecationWarning: The truth value of an empty array is ambiguous. Returning False, but in future this will result in an error. Use `array.size > 0` to check that an array is not empty.\n",
      "  if diff:\n"
     ]
    },
    {
     "name": "stdout",
     "output_type": "stream",
     "text": [
      "face lenght1\n",
      "0\n",
      "journeyTea\n",
      "DSCPDC_0000_BURST20181221160441668.JPG\n"
     ]
    },
    {
     "name": "stderr",
     "output_type": "stream",
     "text": [
      "D:\\anoconda\\lib\\site-packages\\sklearn\\preprocessing\\label.py:151: DeprecationWarning: The truth value of an empty array is ambiguous. Returning False, but in future this will result in an error. Use `array.size > 0` to check that an array is not empty.\n",
      "  if diff:\n"
     ]
    },
    {
     "name": "stdout",
     "output_type": "stream",
     "text": [
      "face lenght1\n",
      "1\n",
      "moty\n",
      "DSC_0000_BURST20190309160727653.jpg\n"
     ]
    },
    {
     "name": "stderr",
     "output_type": "stream",
     "text": [
      "D:\\anoconda\\lib\\site-packages\\sklearn\\preprocessing\\label.py:151: DeprecationWarning: The truth value of an empty array is ambiguous. Returning False, but in future this will result in an error. Use `array.size > 0` to check that an array is not empty.\n",
      "  if diff:\n"
     ]
    },
    {
     "name": "stdout",
     "output_type": "stream",
     "text": [
      "face lenght1\n",
      "0\n",
      "journeyTea\n",
      "DSC_0002.jpg\n"
     ]
    },
    {
     "name": "stderr",
     "output_type": "stream",
     "text": [
      "D:\\anoconda\\lib\\site-packages\\sklearn\\preprocessing\\label.py:151: DeprecationWarning: The truth value of an empty array is ambiguous. Returning False, but in future this will result in an error. Use `array.size > 0` to check that an array is not empty.\n",
      "  if diff:\n"
     ]
    },
    {
     "name": "stdout",
     "output_type": "stream",
     "text": [
      "face lenght1\n",
      "1\n",
      "moty\n",
      "DSC_0394.JPG\n"
     ]
    },
    {
     "name": "stderr",
     "output_type": "stream",
     "text": [
      "D:\\anoconda\\lib\\site-packages\\sklearn\\preprocessing\\label.py:151: DeprecationWarning: The truth value of an empty array is ambiguous. Returning False, but in future this will result in an error. Use `array.size > 0` to check that an array is not empty.\n",
      "  if diff:\n"
     ]
    },
    {
     "name": "stdout",
     "output_type": "stream",
     "text": [
      "Exit\n"
     ]
    }
   ],
   "source": [
    "if __name__=='__main__':\n",
    "    path_cascade = \"haarcascade_frontalface_alt.xml\"\n",
    "    train_img_path = 'faces_dataset/train'\n",
    "    path_img_test = 'faces_dataset/test'\n",
    "\n",
    "    # Load face cascade file\n",
    "    faceCascade = cv2.CascadeClassifier(path_cascade)\n",
    "\n",
    "    # Initialize Local Binary Patterns Histogram face recognizer\n",
    "    face_recognizer = cv2.face.LBPHFaceRecognizer_create()\n",
    "\n",
    "    # Extract images, labels, and label encoder from training dataset\n",
    "    imgs, labels, le = getting_images_and_labels(train_img_path)\n",
    "\n",
    "    # Train the face recognizer \n",
    "    print (\"\\nTraining...\")\n",
    "    face_recognizer.train(imgs, np.array(labels))\n",
    "\n",
    "    # Test the recognizer on unknown images\n",
    "    print ('\\nPerforming prediction on test images...')\n",
    "    flag_stop = False\n",
    "    for roots, dirs, files in os.walk(path_img_test):\n",
    "        for fname in (x for x in files if x.endswith('.jpg') or x.endswith('.JPG')):\n",
    "            fpath = os.path.join(roots, fname)\n",
    "            \n",
    "            # Read the image\n",
    "            predicting_img = cv2.imread(fpath, 0)\n",
    "            predicting_img = cv2.resize(predicting_img, (960, 720), interpolation=cv2.INTER_CUBIC)\n",
    "            # Detect faces\n",
    "            face = faceCascade.detectMultiScale(predicting_img, 1.1, \n",
    "                    2, minSize=(100,100))\n",
    "            print('face lenght' + str(len(face)))\n",
    "            # Iterate through face rectangles\n",
    "            count = 1\n",
    "            for (x, y, w, h) in face:\n",
    "                # Predict the output\n",
    "                index_predicted, config = face_recognizer.predict(\n",
    "                        predicting_img[y:y+h, x:x+w])\n",
    "                print(index_predicted)\n",
    "                # Convert to word label\n",
    "                person_predicted = le.number_to_word(index_predicted)\n",
    "                \n",
    "                # Overlay text on the output image and display it\n",
    "                print(person_predicted)\n",
    "                cv2.putText(predicting_img, 'Prediction: ' +  person_predicted, \n",
    "                        (10* count,60 * count), cv2.FONT_HERSHEY_SIMPLEX, 2, (255,255,255), 6)\n",
    "                cv2.imshow(\"Recognizing face\", predicting_img)\n",
    "                count+=1\n",
    "            print(fname)\n",
    "            a = cv2.waitKey(0)\n",
    "            if a == 27:\n",
    "                flag_stop = True\n",
    "                break\n",
    "                \n",
    "        if flag_stop:\n",
    "            print('Exit')\n",
    "            cv2.destroyAllWindows()\n",
    "            break\n",
    "    print('Exit')\n",
    "    cv2.destroyAllWindows()"
   ]
  },
  {
   "cell_type": "code",
   "execution_count": null,
   "metadata": {},
   "outputs": [],
   "source": []
  },
  {
   "cell_type": "code",
   "execution_count": null,
   "metadata": {},
   "outputs": [],
   "source": []
  }
 ],
 "metadata": {
  "kernelspec": {
   "display_name": "Python 3",
   "language": "python",
   "name": "python3"
  },
  "language_info": {
   "codemirror_mode": {
    "name": "ipython",
    "version": 3
   },
   "file_extension": ".py",
   "mimetype": "text/x-python",
   "name": "python",
   "nbconvert_exporter": "python",
   "pygments_lexer": "ipython3",
   "version": "3.6.5"
  }
 },
 "nbformat": 4,
 "nbformat_minor": 2
}
